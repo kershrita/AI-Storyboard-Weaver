{
 "cells": [
  {
   "cell_type": "code",
   "execution_count": 1,
   "id": "bf27e95b",
   "metadata": {
    "scrolled": true
   },
   "outputs": [
    {
     "name": "stdout",
     "output_type": "stream",
     "text": [
      "WARNING:tensorflow:From C:\\ProgramData\\anaconda3\\Lib\\site-packages\\tf_keras\\src\\losses.py:2976: The name tf.losses.sparse_softmax_cross_entropy is deprecated. Please use tf.compat.v1.losses.sparse_softmax_cross_entropy instead.\n",
      "\n",
      "=== 🎬 AI Storyboard Weaver ===\n",
      "✍️ Enter your story parameters below:\n"
     ]
    },
    {
     "name": "stdin",
     "output_type": "stream",
     "text": [
      "Describe your story (e.g., 'A detective discovers aliens in 1920s Chicago'):  A heist crew plans a bank robbery\n",
      "Number of scenes (1-5):  5\n"
     ]
    },
    {
     "name": "stdout",
     "output_type": "stream",
     "text": [
      "Available visual styles:\n",
      "1. Cinematic\n",
      "2. Documentary\n",
      "3. Anime\n",
      "4. Noir\n",
      "5. Experimental\n"
     ]
    },
    {
     "name": "stdin",
     "output_type": "stream",
     "text": [
      "Select visual style (1-5):  1\n"
     ]
    },
    {
     "name": "stdout",
     "output_type": "stream",
     "text": [
      "Selected style: Cinematic\n",
      "Creating output directory: outputs\\A_heist_crew_plans_a\n",
      "\n",
      "🔍 Analyzing your plot...\n"
     ]
    },
    {
     "data": {
      "text/markdown": [
       "🔧 Executing generate storyboard..."
      ],
      "text/plain": [
       "<IPython.core.display.Markdown object>"
      ]
     },
     "metadata": {},
     "output_type": "display_data"
    },
    {
     "name": "stdout",
     "output_type": "stream",
     "text": [
      "📊 Analyzing story structure...\n"
     ]
    },
    {
     "data": {
      "text/markdown": [
       "🔧 Executing analyze mood..."
      ],
      "text/plain": [
       "<IPython.core.display.Markdown object>"
      ]
     },
     "metadata": {},
     "output_type": "display_data"
    },
    {
     "name": "stdout",
     "output_type": "stream",
     "text": [
      "\n",
      "🎬 Untitled A heist crew plans a bank robbery\n"
     ]
    },
    {
     "data": {
      "text/markdown": [
       "## 🎬 Untitled A heist crew plans a bank robbery"
      ],
      "text/plain": [
       "<IPython.core.display.Markdown object>"
      ]
     },
     "metadata": {},
     "output_type": "display_data"
    },
    {
     "data": {
      "text/markdown": [
       "\n",
       "### 🎥 Scene 1 (Neutral)\n",
       "\n",
       "**Visual Description:**  \n",
       "Scene 1 of A heist crew plans a bank robbery\n",
       "\n",
       "**Dialogue:**  \n",
       "\"...\"\n"
      ],
      "text/plain": [
       "<IPython.core.display.Markdown object>"
      ]
     },
     "metadata": {},
     "output_type": "display_data"
    },
    {
     "data": {
      "text/markdown": [
       "\n",
       "### 🎥 Scene 2 (Neutral)\n",
       "\n",
       "**Visual Description:**  \n",
       "Scene 2 of A heist crew plans a bank robbery\n",
       "\n",
       "**Dialogue:**  \n",
       "\"...\"\n"
      ],
      "text/plain": [
       "<IPython.core.display.Markdown object>"
      ]
     },
     "metadata": {},
     "output_type": "display_data"
    },
    {
     "data": {
      "text/markdown": [
       "\n",
       "### 🎥 Scene 3 (Neutral)\n",
       "\n",
       "**Visual Description:**  \n",
       "Scene 3 of A heist crew plans a bank robbery\n",
       "\n",
       "**Dialogue:**  \n",
       "\"...\"\n"
      ],
      "text/plain": [
       "<IPython.core.display.Markdown object>"
      ]
     },
     "metadata": {},
     "output_type": "display_data"
    },
    {
     "data": {
      "text/markdown": [
       "![Mood Distribution Chart](outputs\\A_heist_crew_plans_a\\mood_distribution.png)"
      ],
      "text/plain": [
       "<IPython.core.display.Markdown object>"
      ]
     },
     "metadata": {},
     "output_type": "display_data"
    },
    {
     "name": "stdout",
     "output_type": "stream",
     "text": [
      "Attempting to save storyboard to: outputs\\A_heist_crew_plans_a\\storyboard_A_heist_crew_plans_a.json\n"
     ]
    },
    {
     "data": {
      "text/markdown": [
       "🔧 Executing save storyboard..."
      ],
      "text/plain": [
       "<IPython.core.display.Markdown object>"
      ]
     },
     "metadata": {},
     "output_type": "display_data"
    },
    {
     "name": "stdout",
     "output_type": "stream",
     "text": [
      "Saving storyboard to: outputs\\A_heist_crew_plans_a\\storyboard_A_heist_crew_plans_a.json\n",
      "Successfully saved storyboard to: outputs\\A_heist_crew_plans_a\\storyboard_A_heist_crew_plans_a.json\n",
      "💾 Storyboard saved to outputs\\A_heist_crew_plans_a\\storyboard_A_heist_crew_plans_a.json\n"
     ]
    }
   ],
   "source": [
    "import os\n",
    "os.environ['TF_CPP_MIN_LOG_LEVEL'] = '3'  # Suppress TensorFlow warnings\n",
    "from dotenv import load_dotenv\n",
    "from src.ui import create_ui\n",
    "\n",
    "# Load environment variables\n",
    "load_dotenv()\n",
    "\n",
    "# Create and run the console-based UI\n",
    "create_ui()"
   ]
  },
  {
   "cell_type": "code",
   "execution_count": null,
   "id": "6cea9f72-09fb-4cc0-9cdc-625e1223f608",
   "metadata": {},
   "outputs": [],
   "source": []
  }
 ],
 "metadata": {
  "kernelspec": {
   "display_name": "Python 3 (ipykernel)",
   "language": "python",
   "name": "python3"
  },
  "language_info": {
   "codemirror_mode": {
    "name": "ipython",
    "version": 3
   },
   "file_extension": ".py",
   "mimetype": "text/x-python",
   "name": "python",
   "nbconvert_exporter": "python",
   "pygments_lexer": "ipython3",
   "version": "3.12.7"
  }
 },
 "nbformat": 4,
 "nbformat_minor": 5
}
